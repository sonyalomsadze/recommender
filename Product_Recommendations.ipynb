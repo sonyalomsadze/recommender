{
  "nbformat": 4,
  "nbformat_minor": 0,
  "metadata": {
    "colab": {
      "provenance": []
    },
    "kernelspec": {
      "name": "python3",
      "display_name": "Python 3"
    },
    "language_info": {
      "name": "python"
    }
  },
  "cells": [
    {
      "cell_type": "code",
      "source": [
        "import pandas as pd\n",
        "import numpy as np\n",
        "from sklearn.feature_extraction.text import CountVectorizer\n",
        "from sklearn.metrics.pairwise import cosine_similarity\n",
        "from scipy import sparse\n",
        "\n",
        "# Load the purchase history data into a DataFrame\n",
        "data = {'user_id': [1, 1, 2, 2, 2, 3, 3, 3, 3, 4, 4],\n",
        "        'product_id': ['A', 'B', 'B', 'C', 'D', 'A', 'C', 'D', 'E', 'A', 'E']}\n",
        "purchase_history = pd.DataFrame(data)\n",
        "\n",
        "# Count the number of purchases for each user and product combination\n",
        "purchase_counts = purchase_history.groupby(['user_id', 'product_id']).size().unstack(fill_value=0)\n",
        "\n",
        "# Convert the purchase counts to a sparse matrix\n",
        "sparse_purchase_counts = sparse.csr_matrix(purchase_counts)\n",
        "\n",
        "# Compute the cosine similarity matrix between the products\n",
        "cosine_similarities = cosine_similarity(sparse_purchase_counts.T)\n",
        "\n",
        "# Define a function to recommend items for a user based on their purchase history\n",
        "def recommend_items(user_id, n=5):\n",
        "    # Get the user's purchase history\n",
        "    user_history = sparse_purchase_counts[user_id].toarray().flatten()\n",
        "\n",
        "    # Compute the average cosine similarity between the user's purchased items and all other items\n",
        "    similarities = cosine_similarities.dot(user_history)\n",
        "\n",
        "    # Get the indices of the user's purchased items\n",
        "    purchased_indices = np.where(user_history > 0)[0]\n",
        "\n",
        "    # Set the similarity scores for purchased items to 0\n",
        "    similarities[purchased_indices] = 0\n",
        "\n",
        "    # Sort the items by similarity score and return the top n items\n",
        "    recommended_indices = np.argsort(similarities)[::-1][:n]\n",
        "    recommended_items = list(purchase_counts.columns[recommended_indices])\n",
        "    \n",
        "    # Remove the items that the user has already purchased\n",
        "    purchased_items = list(purchase_counts.columns[purchase_counts.loc[user_id] > 0])\n",
        "    recommended_items = [item for item in recommended_items if item not in purchased_items]\n",
        "\n",
        "    return recommended_items\n",
        "\n",
        "# Example usage:\n",
        "print(recommend_items(1))  # Output: ['D', 'C', 'E']"
      ],
      "metadata": {
        "colab": {
          "base_uri": "https://localhost:8080/"
        },
        "id": "YRgDOiIVYS87",
        "outputId": "7a6b655d-31c1-4208-fb1c-bf72e9d84c4a"
      },
      "execution_count": 33,
      "outputs": [
        {
          "output_type": "stream",
          "name": "stdout",
          "text": [
            "['E', 'D', 'C']\n"
          ]
        }
      ]
    },
    {
      "cell_type": "code",
      "source": [],
      "metadata": {
        "id": "4NXnZh6361ZB"
      },
      "execution_count": null,
      "outputs": []
    },
    {
      "cell_type": "code",
      "source": [],
      "metadata": {
        "id": "PdM5hNwq61UR"
      },
      "execution_count": null,
      "outputs": []
    }
  ]
}